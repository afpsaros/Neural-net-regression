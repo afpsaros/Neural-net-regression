{
 "cells": [
  {
   "cell_type": "code",
   "execution_count": 1,
   "metadata": {},
   "outputs": [],
   "source": [
    "from __future__ import print_function\n",
    "\n",
    "import tensorflow as tf\n",
    "import numpy as np\n",
    "import matplotlib.pyplot as plt\n",
    "\n",
    "import time"
   ]
  },
  {
   "cell_type": "code",
   "execution_count": 2,
   "metadata": {},
   "outputs": [
    {
     "data": {
      "image/png": "[encoded data removed]",
      "text/plain": [
       "<Figure size 432x288 with 1 Axes>"
      ]
     },
     "metadata": {
      "needs_background": "light"
     },
     "output_type": "display_data"
    }
   ],
   "source": [
    "n = 150\n",
    "\n",
    "X_data = np.linspace(0, 10, n)\n",
    "X_data = X_data.reshape((n, 1))\n",
    "\n",
    "Y_data = np.sin(X_data) + 2 * np.sin(2 * X_data) + 0.3 * (X_data - 5) ** 2 \n",
    "data_no_noise = np.concatenate((X_data, Y_data), axis=1)\n",
    "\n",
    "Y_data += np.random.normal(0, 0.5, [n, 1])\n",
    "\n",
    "plt.plot(X_data, Y_data, 'bo')\n",
    "plt.show()"
   ]
  },
  {
   "cell_type": "code",
   "execution_count": 3,
   "metadata": {},
   "outputs": [
    {
     "name": "stdout",
     "output_type": "stream",
     "text": [
      "(120, 2) (15, 2) (15, 2)\n"
     ]
    }
   ],
   "source": [
    "# divide data into training, validation and test sets\n",
    "\n",
    "# whether you need to do this and how to do it depends on your problem\n",
    "\n",
    "# here we have a simple regression problem with a fixed amount of data\n",
    "\n",
    "data = np.concatenate((X_data, Y_data), axis=1)\n",
    "data_eval = data.copy()\n",
    "\n",
    "np.random.shuffle(data)\n",
    "\n",
    "data_tr, data_val, data_test = np.split(data, [int(0.8*n), int(0.8*n)+int(0.1*n)], axis = 0)\n",
    "print(data_tr.shape, data_val.shape, data_test.shape)\n",
    "n_tr, n_val, n_test = data_tr.shape[0], data_val.shape[0], data_test.shape[0]"
   ]
  },
  {
   "cell_type": "code",
   "execution_count": 4,
   "metadata": {},
   "outputs": [],
   "source": [
    "# training parameters\n",
    "learning_rate = 0.01 # optimization step\n",
    "num_epochs = 6000 # here we do full-batch training, so number of epochs = number of iterations\n",
    "display_step = 100 # how often we display something while training\n",
    "wd_par = 0.001 # weight decay (regularization)\n",
    "\n",
    "# network parameters\n",
    "n_hidden_1 = 256 # 1st layer, number of neurons\n",
    "n_hidden_2 = 256 # 2nd layer, number of neurons\n",
    "num_input = 1 # input dimension\n",
    "num_output = 1 # output dimension\n",
    "\n",
    "# tf graph input\n",
    "X = tf.placeholder(tf.float32, shape = [None, 1]) # how input/output are defined in tensorflow\n",
    "Y = tf.placeholder(tf.float32, shape = [None, 1])"
   ]
  },
  {
   "cell_type": "code",
   "execution_count": 5,
   "metadata": {},
   "outputs": [],
   "source": [
    "# store layers weight & bias as dictionaries\n",
    "\n",
    "# random_normal shows how the weights will be initialized\n",
    "\n",
    "# in general we use the Xavier initializer (you just divide the standard deviation of the normal dist by some value)\n",
    "\n",
    "# for each layer we need to give the dimensions\n",
    "\n",
    "weights = {\n",
    "    'h1': tf.Variable(tf.random_normal([num_input, n_hidden_1])), \n",
    "    'h2': tf.Variable(tf.random_normal([n_hidden_1, n_hidden_2])),\n",
    "    'out': tf.Variable(tf.random_normal([n_hidden_2, num_output]))\n",
    "}\n",
    "biases = {\n",
    "    'b1': tf.Variable(tf.random_normal([n_hidden_1])),\n",
    "    'b2': tf.Variable(tf.random_normal([n_hidden_2])),\n",
    "    'out': tf.Variable(tf.random_normal([num_output]))\n",
    "}"
   ]
  },
  {
   "cell_type": "code",
   "execution_count": 6,
   "metadata": {},
   "outputs": [],
   "source": [
    "# create model\n",
    "\n",
    "# here we use the sigmoid activation function\n",
    "\n",
    "# notice the add and matmul operations that multiply and add weights input/hidden/output units\n",
    "def neural_net(x):\n",
    "    # Hidden fully connected layer with 256 neurons\n",
    "    layer_1 = tf.nn.sigmoid(tf.add(tf.matmul(x, weights['h1']), biases['b1']))\n",
    "    # Hidden fully connected layer with 256 neurons\n",
    "    layer_2 = tf.nn.sigmoid(tf.add(tf.matmul(layer_1, weights['h2']), biases['b2']))\n",
    "    # Output fully connected layer \n",
    "    out_layer = tf.add(tf.matmul(layer_2, weights['out']), biases['out'])\n",
    "    return out_layer"
   ]
  },
  {
   "cell_type": "code",
   "execution_count": 7,
   "metadata": {},
   "outputs": [],
   "source": [
    "# tensorflow will read this function each time it wants to do a forward/backward pass\n",
    "fp = neural_net(X)\n",
    "\n",
    "# define loss and optimizer\n",
    "\n",
    "# mean square error plus ell-2 regularization\n",
    "\n",
    "loss = tf.reduce_mean(tf.square(fp-Y)) \\\n",
    "            + wd_par * tf.reduce_sum([tf.reduce_sum(tf.square(weights[i])) for i in weights])\n",
    "\n",
    "# Adam optimizer with learning rate as specified in the parameters\n",
    "\n",
    "optimizer = tf.train.AdamOptimizer(learning_rate=learning_rate)\n",
    "\n",
    "# this has to do with how tensorflow works\n",
    "\n",
    "# at a high level we have a graph and for everything we want to do we add operations to this graph\n",
    "\n",
    "# this is a train operation which will be performed at each iteration\n",
    "\n",
    "train_op = optimizer.minimize(loss)\n",
    "\n",
    "# initialize the variables\n",
    "\n",
    "# even though we specified the type of initialization (normal), \n",
    "# we need to create an operation that performs the initialization\n",
    "\n",
    "init = tf.global_variables_initializer()"
   ]
  },
  {
   "cell_type": "code",
   "execution_count": 8,
   "metadata": {},
   "outputs": [],
   "source": [
    "# for running in Tensorflow 1 we create a session\n",
    "# in order to run an operation we need the sess.run(operation) command\n",
    "\n",
    "sess = tf.Session()\n",
    "sess.run(init)"
   ]
  },
  {
   "cell_type": "code",
   "execution_count": 9,
   "metadata": {},
   "outputs": [
    {
     "name": "stdout",
     "output_type": "stream",
     "text": [
      "Epoch: 0000 loss= 172.653305054\n",
      "Epoch: 0100 loss= 36.381004333\n",
      "Epoch: 0200 loss= 24.702764511\n",
      "Epoch: 0300 loss= 18.924617767\n",
      "Epoch: 0400 loss= 15.324038506\n",
      "Epoch: 0500 loss= 12.783264160\n",
      "Epoch: 0600 loss= 10.872024536\n",
      "Epoch: 0700 loss= 9.416026115\n",
      "Epoch: 0800 loss= 8.281032562\n",
      "Epoch: 0900 loss= 7.292550087\n",
      "Epoch: 1000 loss= 6.496766090\n",
      "Epoch: 1100 loss= 5.833623409\n",
      "Epoch: 1200 loss= 5.259062767\n",
      "Epoch: 1300 loss= 4.767788410\n",
      "Epoch: 1400 loss= 4.335829735\n",
      "Epoch: 1500 loss= 3.954879284\n",
      "Epoch: 1600 loss= 3.617293835\n",
      "Epoch: 1700 loss= 3.333353281\n",
      "Epoch: 1800 loss= 3.069727421\n",
      "Epoch: 1900 loss= 2.863117695\n",
      "Epoch: 2000 loss= 2.566720247\n",
      "Epoch: 2100 loss= 2.378386497\n",
      "Epoch: 2200 loss= 2.205266476\n",
      "Epoch: 2300 loss= 2.064144850\n",
      "Epoch: 2400 loss= 1.973842382\n",
      "Epoch: 2500 loss= 1.757665277\n",
      "Epoch: 2600 loss= 1.647164822\n",
      "Epoch: 2700 loss= 1.544539213\n",
      "Epoch: 2800 loss= 1.463843107\n",
      "Epoch: 2900 loss= 1.449790478\n",
      "Epoch: 3000 loss= 1.281034112\n",
      "Epoch: 3100 loss= 1.211173892\n",
      "Epoch: 3200 loss= 1.146505713\n",
      "Epoch: 3300 loss= 1.104032159\n",
      "Epoch: 3400 loss= 1.095837593\n",
      "Epoch: 3500 loss= 1.151879787\n",
      "Epoch: 3600 loss= 0.945773065\n",
      "Epoch: 3700 loss= 0.915763795\n",
      "Epoch: 3800 loss= 0.901015878\n",
      "Epoch: 3900 loss= 1.017864943\n",
      "Epoch: 4000 loss= 0.827125311\n",
      "Epoch: 4100 loss= 0.803164601\n",
      "Epoch: 4200 loss= 0.844757259\n",
      "Epoch: 4300 loss= 0.745079994\n",
      "Epoch: 4400 loss= 0.737043262\n",
      "Epoch: 4500 loss= 0.732127190\n",
      "Epoch: 4600 loss= 0.816655040\n",
      "Epoch: 4700 loss= 0.681678772\n",
      "Epoch: 4800 loss= 0.681511939\n",
      "Epoch: 4900 loss= 0.677795291\n",
      "Epoch: 5000 loss= 0.692065001\n",
      "Epoch: 5100 loss= 0.640277505\n",
      "Epoch: 5200 loss= 0.640731096\n",
      "Epoch: 5300 loss= 0.669553876\n",
      "Epoch: 5400 loss= 0.615726769\n",
      "Epoch: 5500 loss= 0.610418797\n",
      "Epoch: 5600 loss= 0.618296385\n",
      "Epoch: 5700 loss= 0.655459940\n",
      "Epoch: 5800 loss= 0.768158793\n",
      "Epoch: 5900 loss= 0.592501163\n",
      "Epoch: 6000 loss= 0.595249653\n",
      "Optimization Finished!\n"
     ]
    }
   ],
   "source": [
    "# in order to run an operation we need to feed it a dictionary\n",
    "# this dictionary will replace the placeholders we defined above with specific values\n",
    "# so for training loss we replace with tr data and for validation with val data\n",
    "# this is the loss even before we start. the loss corresponding to the initial weights\n",
    "_loss = sess.run(loss, feed_dict={X: data_tr[:, [0]], Y: data_tr[:, [1]]})\n",
    "training_loss = [_loss]\n",
    "validation_error = [sess.run(loss, feed_dict={X: data_val[:, [0]], Y: data_val[:, [1]]})]\n",
    "\n",
    "print(\"Epoch:\", '%04d' % (0), \"loss=\", \"{:.9f}\".format(_loss))\n",
    "\n",
    "i = 0\n",
    "\n",
    "tic = time.perf_counter()\n",
    "\n",
    "for epoch in range(num_epochs):\n",
    "\n",
    "    sess.run(train_op, feed_dict={X: data_tr[:, [0]], Y: data_tr[:, [1]]})\n",
    "        \n",
    "    if (epoch + 1) % display_step == 0:  \n",
    "        \n",
    "        _loss = sess.run(loss, feed_dict={X: data_tr[:, [0]], Y: data_tr[:, [1]]})\n",
    "        training_loss.append(_loss)\n",
    "        validation_error.append(sess.run(loss, feed_dict={X: data_val[:, [0]], Y: data_val[:, [1]]}))\n",
    "        \n",
    "        print(\"Epoch:\", '%04d' % (epoch + 1), \"loss=\", \"{:.9f}\".format(_loss))\n",
    "\n",
    "toc = time.perf_counter()\n",
    "\n",
    "print(\"Optimization Finished!\")"
   ]
  },
  {
   "cell_type": "code",
   "execution_count": 10,
   "metadata": {},
   "outputs": [
    {
     "name": "stdout",
     "output_type": "stream",
     "text": [
      "Run in 8.7985 seconds\n"
     ]
    }
   ],
   "source": [
    "print(f\"Run in {toc - tic:0.4f} seconds\")"
   ]
  },
  {
   "cell_type": "code",
   "execution_count": 11,
   "metadata": {},
   "outputs": [
    {
     "data": {
      "image/png": "[encoded data removed]",
      "text/plain": [
       "<Figure size 432x288 with 1 Axes>"
      ]
     },
     "metadata": {
      "needs_background": "light"
     },
     "output_type": "display_data"
    }
   ],
   "source": [
    "plt.yscale('log')\n",
    "plt.plot(np.arange(len(training_loss)), training_loss, label = 'training loss')\n",
    "plt.plot(np.arange(len(training_loss)), validation_error, label = 'validation error')\n",
    "plt.legend()\n",
    "plt.show()"
   ]
  },
  {
   "cell_type": "code",
   "execution_count": 12,
   "metadata": {},
   "outputs": [
    {
     "data": {
      "image/png": "[encoded data removed]",
      "text/plain": [
       "<Figure size 432x288 with 1 Axes>"
      ]
     },
     "metadata": {
      "needs_background": "light"
     },
     "output_type": "display_data"
    }
   ],
   "source": [
    "# plot of training, test and evaluation data\n",
    "# in general we don't have the evaluation data because we don't know the true function\n",
    "\n",
    "plt.plot(data_tr[:, [0]], data_tr[:, [1]], 'bo')\n",
    "plt.plot(data_test[:, [0]], data_test[:, [1]], 'ro')\n",
    "plt.plot(data_eval[:, [0]], sess.run(fp, feed_dict = {X: data_eval[:, [0]]}))\n",
    "plt.show()"
   ]
  },
  {
   "cell_type": "code",
   "execution_count": 13,
   "metadata": {},
   "outputs": [
    {
     "data": {
      "image/png": "[encoded data removed]",
      "text/plain": [
       "<Figure size 432x288 with 1 Axes>"
      ]
     },
     "metadata": {
      "needs_background": "light"
     },
     "output_type": "display_data"
    }
   ],
   "source": [
    "plt.plot(data_no_noise[:, [0]], data_no_noise[:, [1]], label = 'true function')\n",
    "plt.plot(data_eval[:, [0]], sess.run(fp, feed_dict = {X: data_eval[:, [0]]}), label = 'fitted function')\n",
    "plt.legend()\n",
    "plt.show()"
   ]
  },
  {
   "cell_type": "code",
   "execution_count": null,
   "metadata": {},
   "outputs": [],
   "source": []
  }
 ],
 "metadata": {
  "kernelspec": {
   "display_name": "Python 3",
   "language": "python",
   "name": "python3"
  },
  "language_info": {
   "codemirror_mode": {
    "name": "ipython",
    "version": 3
   },
   "file_extension": ".py",
   "mimetype": "text/x-python",
   "name": "python",
   "nbconvert_exporter": "python",
   "pygments_lexer": "ipython3",
   "version": "3.7.6"
  }
 },
 "nbformat": 4,
 "nbformat_minor": 4
}
