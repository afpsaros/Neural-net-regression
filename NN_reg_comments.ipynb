{
 "cells": [
  {
   "cell_type": "code",
   "execution_count": 1,
   "metadata": {},
   "outputs": [],
   "source": [
    "from __future__ import print_function\n",
    "\n",
    "import tensorflow as tf\n",
    "import numpy as np\n",
    "import matplotlib.pyplot as plt\n",
    "\n",
    "import time\n",
    "# tf.compat.v1.enable_eager_execution()\n"
   ]
  },
  {
   "cell_type": "code",
   "execution_count": 2,
   "metadata": {},
   "outputs": [],
   "source": [
    "# x = tf.constant([[1., 2.], [3., 4.]])\n",
    "# print(tf.reduce_mean(x))"
   ]
  },
  {
   "cell_type": "code",
   "execution_count": 3,
   "metadata": {},
   "outputs": [
    {
     "data": {
      "image/png": "[encoded data removed]",
      "text/plain": [
       "<Figure size 432x288 with 1 Axes>"
      ]
     },
     "metadata": {
      "needs_background": "light"
     },
     "output_type": "display_data"
    }
   ],
   "source": [
    "n = 1000\n",
    "\n",
    "X_data = np.linspace(0, 10, n)\n",
    "X_data = X_data.reshape((n, 1))\n",
    "\n",
    "Y_data = np.sin(X_data) + 2 * np.sin(2 * X_data) + 0.3 * (X_data - 5) ** 2 \n",
    "data_no_noise = np.concatenate((X_data, Y_data), axis=1)\n",
    "\n",
    "Y_data += np.random.normal(0, 0.5, [n, 1])\n",
    "\n",
    "plt.plot(X_data, Y_data, 'bo')\n",
    "plt.show()"
   ]
  },
  {
   "cell_type": "code",
   "execution_count": 4,
   "metadata": {},
   "outputs": [
    {
     "name": "stdout",
     "output_type": "stream",
     "text": [
      "(800, 2) (100, 2) (100, 2)\n"
     ]
    }
   ],
   "source": [
    "# divide data into training, validation and test sets\n",
    "\n",
    "# whether you need to do this and how to do it depends on your problem\n",
    "\n",
    "# here we have a simple regression problem with a fixed amount of data\n",
    "\n",
    "data = np.concatenate((X_data, Y_data), axis=1)\n",
    "data_eval = data.copy()\n",
    "\n",
    "np.random.shuffle(data)\n",
    "\n",
    "data_tr, data_val, data_test = np.split(data, [int(0.8*n), int(0.8*n)+int(0.1*n)], axis = 0)\n",
    "print(data_tr.shape, data_val.shape, data_test.shape)\n",
    "n_tr, n_val, n_test = data_tr.shape[0], data_val.shape[0], data_test.shape[0]"
   ]
  },
  {
   "cell_type": "code",
   "execution_count": 5,
   "metadata": {},
   "outputs": [],
   "source": [
    "# training parameters\n",
    "learning_rate = 0.01 # optimization step\n",
    "num_epochs = 6000 # here we do full-batch training, so number of epochs = number of iterations\n",
    "display_step = 100 # how often we display something while training\n",
    "wd_par = 0.000 # weight decay (regularization)\n",
    "\n",
    "# network parameters\n",
    "n_hidden_1 = 256 # 1st layer, number of neurons\n",
    "n_hidden_2 = 256 # 2nd layer, number of neurons\n",
    "num_input = 1 # input dimension\n",
    "num_output = 1 # output dimension\n",
    "\n",
    "# tf graph input\n",
    "X = tf.placeholder(tf.float32, shape = [None, 1]) # how input/output are defined in tensorflow\n",
    "Y = tf.placeholder(tf.float32, shape = [None, 1])"
   ]
  },
  {
   "cell_type": "code",
   "execution_count": 6,
   "metadata": {},
   "outputs": [],
   "source": [
    "# store layers weight & bias as dictionaries\n",
    "\n",
    "# random_normal shows how the weights will be initialized\n",
    "\n",
    "# in general we use the Xavier initializer (you just divide the standard deviation of the normal dist by some value)\n",
    "\n",
    "# for each layer we need to give the dimensions\n",
    "\n",
    "weights = {\n",
    "    'h1': tf.Variable(tf.random_normal([num_input, n_hidden_1])), \n",
    "    'h2': tf.Variable(tf.random_normal([n_hidden_1, n_hidden_2])),\n",
    "    'out': tf.Variable(tf.random_normal([n_hidden_2, num_output]))\n",
    "}\n",
    "biases = {\n",
    "    'b1': tf.Variable(tf.random_normal([n_hidden_1])),\n",
    "    'b2': tf.Variable(tf.random_normal([n_hidden_2])),\n",
    "    'out': tf.Variable(tf.random_normal([num_output]))\n",
    "}"
   ]
  },
  {
   "cell_type": "code",
   "execution_count": 7,
   "metadata": {},
   "outputs": [],
   "source": [
    "# create model\n",
    "\n",
    "# here we use the sigmoid activation function\n",
    "\n",
    "# notice the add and matmul operations that multiply and add weights input/hidden/output units\n",
    "def neural_net(x):\n",
    "    # Hidden fully connected layer with 256 neurons\n",
    "    layer_1 = tf.nn.sigmoid(tf.add(tf.matmul(x, weights['h1']), biases['b1']))\n",
    "    # Hidden fully connected layer with 256 neurons\n",
    "    layer_2 = tf.nn.sigmoid(tf.add(tf.matmul(layer_1, weights['h2']), biases['b2']))\n",
    "    # Output fully connected layer \n",
    "    out_layer = tf.add(tf.matmul(layer_2, weights['out']), biases['out'])\n",
    "    return out_layer"
   ]
  },
  {
   "cell_type": "code",
   "execution_count": 8,
   "metadata": {},
   "outputs": [],
   "source": [
    "# tensorflow will read this function each time it wants to do a forward/backward pass\n",
    "fp = neural_net(X)\n",
    "\n",
    "# define loss and optimizer\n",
    "\n",
    "# mean square error plus ell-2 regularization\n",
    "\n",
    "loss = tf.reduce_mean(tf.square(fp-Y)) \\\n",
    "            + wd_par * tf.reduce_sum([tf.reduce_sum(tf.square(weights[i])) for i in weights])\n",
    "\n",
    "# Adam optimizer with learning rate as specified in the parameters\n",
    "\n",
    "optimizer = tf.train.AdamOptimizer(learning_rate=learning_rate)\n",
    "\n",
    "# this has to do with how tensorflow works\n",
    "\n",
    "# at a high level we have a graph and for everything we want to do we add operations to this graph\n",
    "\n",
    "# this is a train operation which will be performed at each iteration\n",
    "\n",
    "train_op = optimizer.minimize(loss)\n",
    "\n",
    "# initialize the variables\n",
    "\n",
    "# even though we specified the type of initialization (normal), \n",
    "# we need to create an operation that performs the initialization\n",
    "\n",
    "init = tf.global_variables_initializer()"
   ]
  },
  {
   "cell_type": "code",
   "execution_count": 9,
   "metadata": {},
   "outputs": [],
   "source": [
    "# for running in Tensorflow 1 we create a session\n",
    "# in order to run an operation we need the sess.run(operation) command\n"
   ]
  },
  {
   "cell_type": "code",
   "execution_count": 10,
   "metadata": {},
   "outputs": [
    {
     "name": "stdout",
     "output_type": "stream",
     "text": [
      "Optimization Finished!\n"
     ]
    }
   ],
   "source": [
    "tic = time.perf_counter()\n",
    "\n",
    "sess = tf.Session()\n",
    "sess.run(init)\n",
    "\n",
    "# in order to run an operation we need to feed it a dictionary\n",
    "# this dictionary will replace the placeholders we defined above with specific values\n",
    "# so for training loss we replace with tr data and for validation with val data\n",
    "# this is the loss even before we start. the loss corresponding to the initial weights\n",
    "# _loss = sess.run(loss, feed_dict={X: data_tr[:, [0]], Y: data_tr[:, [1]]})\n",
    "# training_loss = [_loss]\n",
    "# validation_error = [sess.run(loss, feed_dict={X: data_val[:, [0]], Y: data_val[:, [1]]})]\n",
    "\n",
    "# print(\"Epoch:\", '%04d' % (0), \"loss=\", \"{:.9f}\".format(_loss))\n",
    "\n",
    "# i = 0\n",
    "\n",
    "\n",
    "\n",
    "for epoch in range(num_epochs):\n",
    "\n",
    "    sess.run(train_op, feed_dict={X: data_tr[:, [0]], Y: data_tr[:, [1]]})\n",
    "        \n",
    "#     if (epoch + 1) % display_step == 0:  \n",
    "        \n",
    "#         _loss = sess.run(loss, feed_dict={X: data_tr[:, [0]], Y: data_tr[:, [1]]})\n",
    "#         training_loss.append(_loss)\n",
    "#         validation_error.append(sess.run(loss, feed_dict={X: data_val[:, [0]], Y: data_val[:, [1]]}))\n",
    "        \n",
    "#         print(\"Epoch:\", '%04d' % (epoch + 1), \"loss=\", \"{:.9f}\".format(_loss))\n",
    "\n",
    "toc = time.perf_counter()\n",
    "\n",
    "print(\"Optimization Finished!\")"
   ]
  },
  {
   "cell_type": "code",
   "execution_count": 11,
   "metadata": {},
   "outputs": [
    {
     "name": "stdout",
     "output_type": "stream",
     "text": [
      "Run in 30.8425 seconds\n"
     ]
    }
   ],
   "source": [
    "print(f\"Run in {toc - tic:0.4f} seconds\")"
   ]
  },
  {
   "cell_type": "code",
   "execution_count": 12,
   "metadata": {},
   "outputs": [
    {
     "ename": "NameError",
     "evalue": "name 'training_loss' is not defined",
     "output_type": "error",
     "traceback": [
      "\u001b[1;31m---------------------------------------------------------------------------\u001b[0m",
      "\u001b[1;31mNameError\u001b[0m                                 Traceback (most recent call last)",
      "\u001b[1;32m<ipython-input-12-8125ef1d4c6a>\u001b[0m in \u001b[0;36m<module>\u001b[1;34m\u001b[0m\n\u001b[0;32m      1\u001b[0m \u001b[0mplt\u001b[0m\u001b[1;33m.\u001b[0m\u001b[0myscale\u001b[0m\u001b[1;33m(\u001b[0m\u001b[1;34m'log'\u001b[0m\u001b[1;33m)\u001b[0m\u001b[1;33m\u001b[0m\u001b[1;33m\u001b[0m\u001b[0m\n\u001b[1;32m----> 2\u001b[1;33m \u001b[0mplt\u001b[0m\u001b[1;33m.\u001b[0m\u001b[0mplot\u001b[0m\u001b[1;33m(\u001b[0m\u001b[0mnp\u001b[0m\u001b[1;33m.\u001b[0m\u001b[0marange\u001b[0m\u001b[1;33m(\u001b[0m\u001b[0mlen\u001b[0m\u001b[1;33m(\u001b[0m\u001b[0mtraining_loss\u001b[0m\u001b[1;33m)\u001b[0m\u001b[1;33m)\u001b[0m\u001b[1;33m,\u001b[0m \u001b[0mtraining_loss\u001b[0m\u001b[1;33m,\u001b[0m \u001b[0mlabel\u001b[0m \u001b[1;33m=\u001b[0m \u001b[1;34m'training loss'\u001b[0m\u001b[1;33m)\u001b[0m\u001b[1;33m\u001b[0m\u001b[1;33m\u001b[0m\u001b[0m\n\u001b[0m\u001b[0;32m      3\u001b[0m \u001b[0mplt\u001b[0m\u001b[1;33m.\u001b[0m\u001b[0mplot\u001b[0m\u001b[1;33m(\u001b[0m\u001b[0mnp\u001b[0m\u001b[1;33m.\u001b[0m\u001b[0marange\u001b[0m\u001b[1;33m(\u001b[0m\u001b[0mlen\u001b[0m\u001b[1;33m(\u001b[0m\u001b[0mtraining_loss\u001b[0m\u001b[1;33m)\u001b[0m\u001b[1;33m)\u001b[0m\u001b[1;33m,\u001b[0m \u001b[0mvalidation_error\u001b[0m\u001b[1;33m,\u001b[0m \u001b[0mlabel\u001b[0m \u001b[1;33m=\u001b[0m \u001b[1;34m'validation error'\u001b[0m\u001b[1;33m)\u001b[0m\u001b[1;33m\u001b[0m\u001b[1;33m\u001b[0m\u001b[0m\n\u001b[0;32m      4\u001b[0m \u001b[0mplt\u001b[0m\u001b[1;33m.\u001b[0m\u001b[0mlegend\u001b[0m\u001b[1;33m(\u001b[0m\u001b[1;33m)\u001b[0m\u001b[1;33m\u001b[0m\u001b[1;33m\u001b[0m\u001b[0m\n\u001b[0;32m      5\u001b[0m \u001b[0mplt\u001b[0m\u001b[1;33m.\u001b[0m\u001b[0mshow\u001b[0m\u001b[1;33m(\u001b[0m\u001b[1;33m)\u001b[0m\u001b[1;33m\u001b[0m\u001b[1;33m\u001b[0m\u001b[0m\n",
      "\u001b[1;31mNameError\u001b[0m: name 'training_loss' is not defined"
     ]
    },
    {
     "data": {
      "image/png": "[encoded data removed]",
      "text/plain": [
       "<Figure size 432x288 with 1 Axes>"
      ]
     },
     "metadata": {
      "needs_background": "light"
     },
     "output_type": "display_data"
    }
   ],
   "source": [
    "plt.yscale('log')\n",
    "plt.plot(np.arange(len(training_loss)), training_loss, label = 'training loss')\n",
    "plt.plot(np.arange(len(training_loss)), validation_error, label = 'validation error')\n",
    "plt.legend()\n",
    "plt.show()"
   ]
  },
  {
   "cell_type": "code",
   "execution_count": null,
   "metadata": {},
   "outputs": [],
   "source": [
    "# plot of training, test and evaluation data\n",
    "# in general we don't have the evaluation data because we don't know the true function\n",
    "\n",
    "plt.plot(data_tr[:, [0]], data_tr[:, [1]], 'bo')\n",
    "plt.plot(data_test[:, [0]], data_test[:, [1]], 'ro')\n",
    "plt.plot(data_eval[:, [0]], sess.run(fp, feed_dict = {X: data_eval[:, [0]]}))\n",
    "plt.show()"
   ]
  },
  {
   "cell_type": "code",
   "execution_count": null,
   "metadata": {},
   "outputs": [],
   "source": [
    "plt.plot(data_no_noise[:, [0]], data_no_noise[:, [1]], label = 'true function')\n",
    "plt.plot(data_eval[:, [0]], sess.run(fp, feed_dict = {X: data_eval[:, [0]]}), label = 'fitted function')\n",
    "plt.legend()\n",
    "plt.show()"
   ]
  },
  {
   "cell_type": "code",
   "execution_count": null,
   "metadata": {},
   "outputs": [],
   "source": []
  }
 ],
 "metadata": {
  "kernelspec": {
   "display_name": "Python 3",
   "language": "python",
   "name": "python3"
  },
  "language_info": {
   "codemirror_mode": {
    "name": "ipython",
    "version": 3
   },
   "file_extension": ".py",
   "mimetype": "text/x-python",
   "name": "python",
   "nbconvert_exporter": "python",
   "pygments_lexer": "ipython3",
   "version": "3.7.9"
  }
 },
 "nbformat": 4,
 "nbformat_minor": 4
}
