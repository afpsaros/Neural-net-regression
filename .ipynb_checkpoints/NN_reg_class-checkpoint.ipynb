{
 "cells": [
  {
   "cell_type": "code",
   "execution_count": 1,
   "metadata": {},
   "outputs": [],
   "source": [
    "from __future__ import print_function\n",
    "\n",
    "import tensorflow as tf\n",
    "import numpy as np\n",
    "import matplotlib.pyplot as plt\n",
    "\n",
    "import time"
   ]
  },
  {
   "cell_type": "code",
   "execution_count": 2,
   "metadata": {},
   "outputs": [
    {
     "data": {
      "image/png": "[encoded data removed]",
      "text/plain": [
       "<Figure size 432x288 with 1 Axes>"
      ]
     },
     "metadata": {
      "needs_background": "light"
     },
     "output_type": "display_data"
    },
    {
     "name": "stdout",
     "output_type": "stream",
     "text": [
      "(24, 2) (6, 2)\n"
     ]
    }
   ],
   "source": [
    "n = 30\n",
    "X_data = np.linspace(-1, 2, n)\n",
    "X_data = X_data.reshape((n, 1))\n",
    "# Y_data = X_data**2\n",
    "Y_data = np.cos(X_data / 5)**3 + 4* np.sin(2 * X_data)**3 + \\\n",
    ".3 * (X_data - 5)**2 + 0.02 * (X_data - 2)**3 \n",
    "\n",
    "Y_data += np.random.normal(0, 0.1, [n, 1])\n",
    "\n",
    "plt.plot(X_data, Y_data, 'bo')\n",
    "plt.show()\n",
    "\n",
    "data = np.concatenate((X_data, Y_data), axis=1)\n",
    "\n",
    "np.random.shuffle(data)\n",
    "\n",
    "data_tr, data_val= np.split(data, [int(0.8*n)], axis = 0)\n",
    "print(data_tr.shape, data_val.shape)\n",
    "n_tr, n_val = data_tr.shape[0], data_val.shape[0]\n",
    "\n",
    "n_eval = 300\n",
    "X_data = np.linspace(-1, 2, n_eval)\n",
    "X_data = X_data.reshape((n_eval, 1))\n",
    "# Y_data = X_data**2\n",
    "Y_data = np.cos(X_data / 5)**3 + 4* np.sin(2 * X_data)**3 + \\\n",
    ".3 * (X_data - 5)**2 + 0.02 * (X_data - 2)**3 \n",
    "\n",
    "# plt.plot(X_data, Y_data, 'bo')\n",
    "# plt.show()\n",
    "\n",
    "data_eval = np.concatenate((X_data, Y_data), axis=1)"
   ]
  },
  {
   "cell_type": "code",
   "execution_count": 20,
   "metadata": {},
   "outputs": [],
   "source": [
    "class scores:\n",
    "    def errors(self):     \n",
    "        error = tf.reduce_mean(tf.square(self.fp - self.Y))\n",
    "        error_p = tf.math.abs(self.fp - self.Y)\n",
    "        return error, error_p\n",
    "                    \n",
    "    def pred(self, Xe):\n",
    "        return self.sess.run(self.fp, feed_dict={self.X: Xe})\n",
    "\n",
    "    def pred_w(self, Xe, W, b):\n",
    "        self.weights, self.biases = W, b\n",
    "        self.fp = self.ffn()\n",
    "        return self.sess.run(self.fp, feed_dict={self.X: Xe})\n",
    "    \n",
    "    def score(self, eval_dict):\n",
    "        Xe, Ye = list(eval_dict.values())\n",
    "        return self.sess.run(self.errors(), feed_dict = {self.X: Xe, self.Y: Ye})   \n",
    "    \n",
    "    def score_w(self, eval_dict, W, b):\n",
    "        Xe, Ye = list(eval_dict.values())\n",
    "        self.weights, self.biases = W, b\n",
    "        self.fp = self.ffn()\n",
    "        return self.sess.run(self.errors(), feed_dict = {self.X: Xe, self.Y: Ye})  "
   ]
  },
  {
   "cell_type": "code",
   "execution_count": 26,
   "metadata": {},
   "outputs": [],
   "source": [
    "class regressor(scores):\n",
    "    \n",
    "    def __init__(self):\n",
    "        self.sess = tf.Session()\n",
    "        self.optimizer = tf.train.AdamOptimizer()\n",
    "        \n",
    "    def close_sess(self):\n",
    "        self.sess.close()\n",
    "    \n",
    "    def fit_from_dict(self, fit_dict):\n",
    "        return self.fit(*list(fit_dict.values()))  \n",
    "\n",
    "    def adv_fit_from_dict(self, fit_dict):\n",
    "        return self.adv_fit(*list(fit_dict.values()))     \n",
    "    \n",
    "    def fit(self, wd_par, num_epochs, Xt, Yt, lr = None):\n",
    "        \n",
    "        self.wd_par = wd_par\n",
    "        self.num_epochs = num_epochs\n",
    "        self.xmin = min(Xt)\n",
    "        self.xmax = max(Yt)\n",
    "        self.Xt = Xt\n",
    "        self.Yt = Yt    \n",
    "        self.lr = lr\n",
    "       \n",
    "        self.hyper_initial()\n",
    "        self.fp = self.ffn()\n",
    "        \n",
    "        self.error_mean = self.errors()[0]\n",
    "        \n",
    "        self.obj = self.error_mean + \\\n",
    "                        self.wd_par * tf.reduce_sum([tf.reduce_sum(tf.square(self.weights[i])) for i in self.weights])\n",
    "        \n",
    "        if self.lr is not None:\n",
    "            self.optimizer = tf.train.AdamOptimizer(learning_rate = self.lr)\n",
    "         \n",
    "        self.train_op = self.optimizer.minimize(self.obj)\n",
    "        self.init = tf.global_variables_initializer()\n",
    "        self.sess.run(self.init)\n",
    "        \n",
    "        for epoch in range(self.num_epochs): \n",
    "            self.sess.run(self.train_op, feed_dict={self.X: self.Xt, self.Y: self.Yt}) \n",
    "        \n",
    "        return self\n",
    "    \n",
    "    def adv_fit(self, wd_par, num_epochs, Xt, Yt, Xv, Yv, lr = None):\n",
    "        \n",
    "        self.wd_par = wd_par   \n",
    "        self.num_epochs = num_epochs\n",
    "        self.xmin = min(Xt)\n",
    "        self.xmax = max(Yt)\n",
    "        self.Xt = Xt\n",
    "        self.Yt = Yt\n",
    "        self.Xv = Xv\n",
    "        self.Yv = Yv\n",
    "        self.lr = lr\n",
    "        \n",
    "        self.hyper_initial()\n",
    "        self.fp = self.ffn()\n",
    "        \n",
    "        self.error_mean = self.errors()[0]\n",
    "        \n",
    "        self.obj = self.error_mean + \\\n",
    "                        self.wd_par * tf.reduce_sum([tf.reduce_sum(tf.square(self.weights[i])) for i in self.weights])\n",
    "                \n",
    "        if self.lr is not None:\n",
    "            self.optimizer = tf.train.AdamOptimizer(learning_rate = self.lr)\n",
    "            \n",
    "        self.train_op = self.optimizer.minimize(self.obj)\n",
    "        self.init = tf.global_variables_initializer()\n",
    "        self.sess.run(self.init)\n",
    "        \n",
    "        self.check_w, self.check_b, self.tr_error, self.val_error = \\\n",
    "                    [[] for i in range(4)]   # not 4 * [[]] \n",
    "        \n",
    "        for epoch in range(self.num_epochs):\n",
    "            self.val_error.append(self.sess.run(self.error_mean, \\\n",
    "                  feed_dict={self.X: self.Xv, self.Y: self.Yv}))\n",
    "            check_w_, check_b_, tr_error_, _ = \\\n",
    "            self.sess.run([self.weights, self.biases, self.error_mean, self.train_op], \\\n",
    "                                                           feed_dict={self.X: self.Xt, self.Y: self.Yt})\n",
    "            \n",
    "            self.check_w.append(check_w_)\n",
    "            self.check_b.append(check_b_)\n",
    "            self.tr_error.append(tr_error_)\n",
    "\n",
    "        self.val_error.append(self.sess.run(self.error_mean, \\\n",
    "              feed_dict={self.X: self.Xv, self.Y: self.Yv}))\n",
    "        check_w_, check_b_, tr_error_ = \\\n",
    "            self.sess.run([self.weights, self.biases, self.error_mean], \\\n",
    "                                                       feed_dict={self.X: self.Xt, self.Y: self.Yt})        \n",
    "        self.check_w.append(check_w_)\n",
    "        self.check_b.append(check_b_)\n",
    "        self.tr_error.append(tr_error_)\n",
    "               \n",
    "        return self"
   ]
  },
  {
   "cell_type": "code",
   "execution_count": 27,
   "metadata": {},
   "outputs": [],
   "source": [
    "class DNN(regressor):\n",
    "    def __init__(self, widths):\n",
    "        \n",
    "        super().__init__()\n",
    "        \n",
    "        self.widths = widths\n",
    "        self.layers = len(self.widths) - 2\n",
    "        \n",
    "        self.X = tf.placeholder(tf.float32, shape = [None, 1])\n",
    "        self.Y = tf.placeholder(tf.float32, shape = [None, 1])\n",
    "        self.w_sizes = [[self.widths[i], self.widths[i + 1]] for i in range(len(self.widths) - 1)]\n",
    "        self.w_keys = [('').join(('h', str(i + 1))) for i in range(self.layers)] + ['out']\n",
    "        self.b_sizes = self.widths[1:]\n",
    "        self.b_keys = [('').join(('b', str(i + 1))) for i in range(self.layers)] + ['out']\n",
    "        \n",
    "    \n",
    "    def hyper_initial(self): \n",
    "        w_vars = []\n",
    "        for s in self.w_sizes:\n",
    "            std = np.sqrt(2 / (s[0] + s[1]))\n",
    "            w_vars.append(tf.Variable(tf.random_normal(s, stddev = std)))        \n",
    "        self.weights = dict(zip(self.w_keys, w_vars))\n",
    "\n",
    "        b_vars = [tf.Variable(tf.zeros([s])) for s in self.b_sizes]\n",
    "        self.biases = dict(zip(self.b_keys, b_vars))    \n",
    "\n",
    "    def ffn(self):\n",
    "        self.A = 2.0 * (self.X - self.xmin) / (self.xmax - self.xmin) - 1.0\n",
    "        layer = tf.tanh(tf.add(tf.matmul(self.A, self.weights['h1']), self.biases['b1']))    \n",
    "        for i in range(1, self.layers):\n",
    "            layer = tf.tanh(tf.add(tf.matmul(layer, self.weights[self.w_keys[i]]), self.biases[self.b_keys[i]]))        \n",
    "        layer = tf.add(tf.matmul(layer, self.weights['out']), self.biases['out'])\n",
    "        return layer\n",
    "    \n",
    "    @classmethod\n",
    "    def standard(cls, DNN_dict):\n",
    "        n_in, n_out, layers, width = list(DNN_dict.values())\n",
    "        widths = [n_in] + layers * [width] + [n_out]\n",
    "        return cls(widths)\n",
    "        "
   ]
  },
  {
   "cell_type": "code",
   "execution_count": null,
   "metadata": {},
   "outputs": [],
   "source": []
  },
  {
   "cell_type": "code",
   "execution_count": null,
   "metadata": {},
   "outputs": [],
   "source": []
  },
  {
   "cell_type": "code",
   "execution_count": 23,
   "metadata": {},
   "outputs": [],
   "source": [
    "# various parameters\n",
    "num_epochs = 500\n",
    "wd_par = 0\n",
    "lr = 1e-3\n",
    "\n",
    "Xt, Yt = data_tr[:, [0]], data_tr[:, [1]]\n",
    "Xv, Yv = data_val[:, [0]], data_val[:, [1]]\n",
    "Xe, Ye = data_eval[:, [0]], data_eval[:, [1]]"
   ]
  },
  {
   "cell_type": "code",
   "execution_count": 24,
   "metadata": {},
   "outputs": [],
   "source": [
    "DNN_dict = {\n",
    "    'input dimension': 1,\n",
    "    'output dimension': 1,\n",
    "    'number of layers': 4,\n",
    "    'layer width': 100\n",
    "}\n",
    "\n",
    "fit_dict = {\n",
    "    'wd_par': wd_par,\n",
    "    'num_epochs': num_epochs,\n",
    "    'Xt': Xt,\n",
    "    'Yt': Yt,\n",
    "    'lr': lr\n",
    "}\n",
    "\n",
    "fit_dict = {\n",
    "    'wd_par': wd_par,\n",
    "    'num_epochs': num_epochs,\n",
    "    'Xt': Xt,\n",
    "    'Yt': Yt,\n",
    "    'Xv': Xv,\n",
    "    'Yv': Yv,\n",
    "    'lr': lr\n",
    "}\n",
    "\n",
    "eval_dict = {\n",
    "    'Xe': Xe,\n",
    "    'Ye': Ye\n",
    "}"
   ]
  },
  {
   "cell_type": "code",
   "execution_count": 28,
   "metadata": {},
   "outputs": [
    {
     "name": "stdout",
     "output_type": "stream",
     "text": [
      "0.26172036\n",
      "0.21853577\n",
      "0.21122523\n",
      "9.140615299999922\n"
     ]
    }
   ],
   "source": [
    "# create model\n",
    "\n",
    "tic = time.perf_counter()\n",
    "for k in range(3):\n",
    "#     model = DNN.standard(DNN_dict).fit_from_dict(fit_dict)\n",
    "    model = DNN.standard(DNN_dict).adv_fit_from_dict(fit_dict)\n",
    "    print(model.score(eval_dict)[0])\n",
    "toc = time.perf_counter()\n",
    "print(toc-tic)\n",
    "\n",
    "# model.close_sess()"
   ]
  },
  {
   "cell_type": "code",
   "execution_count": null,
   "metadata": {},
   "outputs": [],
   "source": []
  },
  {
   "cell_type": "code",
   "execution_count": 17,
   "metadata": {},
   "outputs": [],
   "source": [
    "from sklearn.model_selection import GridSearchCV"
   ]
  },
  {
   "cell_type": "code",
   "execution_count": 22,
   "metadata": {},
   "outputs": [],
   "source": [
    "\n",
    "# sess = tf.Session()\n",
    "# sess.run(init)\n",
    "# tr_error = [sess.run(error, feed_dict={X: data_tr[:, [0]], Y: data_tr[:, [1]]})]\n",
    "# val_error = [sess.run(error, feed_dict={X: data_val[:, [0]], Y: data_val[:, [1]]})]\n",
    "# check_w = [sess.run(weights)]\n",
    "# check_b = [sess.run(biases)]\n",
    "\n",
    "# tic = time.perf_counter()\n",
    "# for epoch in range(num_epochs):\n",
    "#     tr_error_, weights_, biases_, _ = \\\n",
    "#     sess.run([error, weights, biases, train_op], feed_dict={X: data_tr[:, [0]], Y: data_tr[:, [1]]})\n",
    "#     check_w.append(weights_)\n",
    "#     check_b.append(biases_)\n",
    "#     tr_error.append(tr_error_)\n",
    "#     val_error.append(sess.run(error, feed_dict={X: data_val[:, [0]], Y: data_val[:, [1]]}))       \n",
    "        \n",
    "# toc = time.perf_counter()\n",
    "# print(toc-tic)\n",
    "# # print('Optimization finished with validation RMSE {:.6f}'.format(np.sqrt(val_error[-1])))\n",
    "# # print('{:03d} epochs run'.format(epoch + 1))\n",
    "# # print('best parameters at epoch {:03d}'.format(best + 1))\n",
    "\n",
    "# plt.title('Training vs validation error', fontsize = 20)\n",
    "# plt.yscale('log')\n",
    "# # plt.axvline(x = best, label = 'selected epoch', color = 'r')\n",
    "# plt.plot(tr_error, label = 'training')\n",
    "# plt.plot(val_error, label = 'validation')\n",
    "# plt.xlabel('Epoch', fontsize = 15)\n",
    "# plt.ylabel('Error', fontsize = 15)\n",
    "# plt.legend(bbox_to_anchor=(1.4, 1.0))\n",
    "# plt.show() "
   ]
  },
  {
   "cell_type": "code",
   "execution_count": 6,
   "metadata": {},
   "outputs": [
    {
     "data": {
      "image/png": "[encoded data removed]",
      "text/plain": [
       "<Figure size 432x288 with 1 Axes>"
      ]
     },
     "metadata": {
      "needs_background": "light"
     },
     "output_type": "display_data"
    }
   ],
   "source": [
    "pred_1 = model.pred_w(Xe, ws[0], bs[0])\n",
    "pred_2 = model.pred_w(Xe, ws[1], bs[1])\n",
    "plt.title('Predictions', fontsize = 20)\n",
    "plt.axvline(x = -1, label = 'data bounds', color = 'r')\n",
    "plt.axvline(x = 2, color = 'r')\n",
    "plt.plot(Xe, pred_1, label = '1')\n",
    "plt.plot(Xe, pred_2, label = '2')\n",
    "plt.plot(data_eval[:, [0]], data_eval[:, [1]], label = 'true function')\n",
    "plt.xlabel('x', fontsize = 15)\n",
    "plt.ylabel('y', fontsize = 15)\n",
    "plt.legend(bbox_to_anchor=(1.4, 1.0))\n",
    "plt.show()"
   ]
  },
  {
   "cell_type": "code",
   "execution_count": null,
   "metadata": {},
   "outputs": [],
   "source": []
  }
 ],
 "metadata": {
  "kernelspec": {
   "display_name": "Python 3",
   "language": "python",
   "name": "python3"
  },
  "language_info": {
   "codemirror_mode": {
    "name": "ipython",
    "version": 3
   },
   "file_extension": ".py",
   "mimetype": "text/x-python",
   "name": "python",
   "nbconvert_exporter": "python",
   "pygments_lexer": "ipython3",
   "version": "3.7.3"
  }
 },
 "nbformat": 4,
 "nbformat_minor": 2
}
