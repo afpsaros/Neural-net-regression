{
 "cells": [
  {
   "cell_type": "code",
   "execution_count": 1,
   "metadata": {},
   "outputs": [],
   "source": [
    "from __future__ import print_function\n",
    "\n",
    "import tensorflow as tf\n",
    "import numpy as np\n",
    "import matplotlib.pyplot as plt\n",
    "\n",
    "import time"
   ]
  },
  {
   "cell_type": "code",
   "execution_count": 2,
   "metadata": {},
   "outputs": [
    {
     "data": {
      "image/png": "[encoded data removed]",
      "text/plain": [
       "<Figure size 432x288 with 1 Axes>"
      ]
     },
     "metadata": {
      "needs_background": "light"
     },
     "output_type": "display_data"
    },
    {
     "name": "stdout",
     "output_type": "stream",
     "text": [
      "(24, 2) (6, 2)\n"
     ]
    }
   ],
   "source": [
    "n = 30\n",
    "X_data = np.linspace(-1, 2, n)\n",
    "X_data = X_data.reshape((n, 1))\n",
    "# Y_data = X_data**2\n",
    "Y_data = np.cos(X_data / 5)**3 + 4* np.sin(2 * X_data)**3 + \\\n",
    ".3 * (X_data - 5)**2 + 0.02 * (X_data - 2)**3 \n",
    "\n",
    "Y_data += np.random.normal(0, 0.1, [n, 1])\n",
    "\n",
    "plt.plot(X_data, Y_data, 'bo')\n",
    "plt.show()\n",
    "\n",
    "data = np.concatenate((X_data, Y_data), axis=1)\n",
    "\n",
    "np.random.shuffle(data)\n",
    "\n",
    "data_tr, data_val= np.split(data, [int(0.8*n)], axis = 0)\n",
    "print(data_tr.shape, data_val.shape)\n",
    "n_tr, n_val = data_tr.shape[0], data_val.shape[0]\n",
    "\n",
    "n_eval = 300\n",
    "X_data = np.linspace(-1, 2, n_eval)\n",
    "X_data = X_data.reshape((n_eval, 1))\n",
    "# Y_data = X_data**2\n",
    "Y_data = np.cos(X_data / 5)**3 + 4* np.sin(2 * X_data)**3 + \\\n",
    ".3 * (X_data - 5)**2 + 0.02 * (X_data - 2)**3 \n",
    "\n",
    "# plt.plot(X_data, Y_data, 'bo')\n",
    "# plt.show()\n",
    "\n",
    "data_eval = np.concatenate((X_data, Y_data), axis=1)"
   ]
  },
  {
   "cell_type": "code",
   "execution_count": null,
   "metadata": {},
   "outputs": [],
   "source": []
  },
  {
   "cell_type": "code",
   "execution_count": null,
   "metadata": {},
   "outputs": [],
   "source": []
  },
  {
   "cell_type": "code",
   "execution_count": 3,
   "metadata": {},
   "outputs": [],
   "source": [
    "class DNN:\n",
    "    def __init__(self, widths):\n",
    "        self.sess = tf.Session()\n",
    "        self.widths = widths\n",
    "        self.layers = len(widths) - 2\n",
    "        self.X = tf.placeholder(tf.float32, shape = [None, 1])\n",
    "        self.Y = tf.placeholder(tf.float32, shape = [None, 1])\n",
    "        self.w_sizes = [[self.widths[i], widths[i + 1]] for i in range(len(self.widths) - 1)]\n",
    "        self.w_keys = [('').join(('h', str(i + 1))) for i in range(self.layers)] + ['out']\n",
    "        self.b_sizes = self.widths[1:]\n",
    "        self.b_keys = [('').join(('b', str(i + 1))) for i in range(self.layers)] + ['out']\n",
    "    \n",
    "    def hyper_initial(self): \n",
    "        w_vars = []\n",
    "        for s in self.w_sizes:\n",
    "            std = np.sqrt(2 / (s[0] + s[1]))\n",
    "            w_vars.append(tf.Variable(tf.random_normal(s, stddev = std)))        \n",
    "        self.weights = dict(zip(self.w_keys, w_vars))\n",
    "\n",
    "        b_vars = [tf.Variable(tf.zeros([s])) for s in self.b_sizes]\n",
    "        self.biases = dict(zip(self.b_keys, b_vars))    \n",
    "\n",
    "    def ffn(self):\n",
    "        self.A = 2.0 * (self.X - self.xmin) / (self.xmax - self.xmin) - 1.0\n",
    "        layer = tf.tanh(tf.add(tf.matmul(self.A, self.weights['h1']), self.biases['b1']))    \n",
    "        for i in range(1, layers):\n",
    "            layer = tf.tanh(tf.add(tf.matmul(layer, self.weights[self.w_keys[i]]), self.biases[self.b_keys[i]]))        \n",
    "        layer = tf.add(tf.matmul(layer, self.weights['out']), self.biases['out'])\n",
    "        return layer\n",
    "    \n",
    "    def errors(self):     \n",
    "        error = tf.reduce_mean(tf.square(self.fp - self.Y))\n",
    "        error_p = tf.math.abs(self.fp - self.Y)\n",
    "        return error, error_p\n",
    "    \n",
    "    def fit(self, wd_par, num_epochs, lr, Xt, Yt):\n",
    "        self.xmin = min(Xt)\n",
    "        self.xmax = max(Yt)\n",
    "        self.Xt = Xt\n",
    "        self.Yt = Yt\n",
    "        \n",
    "        self.hyper_initial()\n",
    "        self.fp = self.ffn()\n",
    "        \n",
    "        obj = self.errors()[0] + \\\n",
    "                        wd_par * tf.reduce_sum([tf.reduce_sum(tf.square(self.weights[i])) for i in self.weights])\n",
    "        optimizer = tf.train.AdamOptimizer(learning_rate = lr)\n",
    "        train_op = optimizer.minimize(obj)\n",
    "        init = tf.global_variables_initializer()\n",
    "        self.sess.run(init)\n",
    "        for epoch in range(num_epochs):\n",
    "            self.sess.run(train_op, feed_dict={self.X: self.Xt, self.Y: self.Yt}) \n",
    "        \n",
    "        return self.sess.run([self.weights, self.biases])\n",
    "            \n",
    "    def pred(self, Xe):\n",
    "        return self.sess.run(self.fp, feed_dict={self.X: Xe})\n",
    "\n",
    "    def pred_w(self, Xe, W, b):\n",
    "        self.weights, self.biases = W, b\n",
    "        self.fp = self.ffn()\n",
    "        return self.sess.run(self.fp, feed_dict={self.X: Xe})\n",
    "    \n",
    "    def score(self, Xe, Ye):\n",
    "        return self.sess.run(self.errors(), feed_dict = {self.X: Xe, self.Y: Ye})    \n",
    "    \n",
    "    def score_w(self, Xe, Ye, W, b):\n",
    "        self.weights, self.biases = W, b\n",
    "        self.fp = self.ffn()\n",
    "        return self.sess.run(self.errors(), feed_dict = {self.X: Xe, self.Y: Ye})       "
   ]
  },
  {
   "cell_type": "code",
   "execution_count": 4,
   "metadata": {},
   "outputs": [],
   "source": [
    "# various parameters\n",
    "num_epochs = 500\n",
    "\n",
    "wd_par = 0\n",
    "lr = 1e-3\n",
    "\n",
    "num_input = [1] \n",
    "num_output = [1] \n",
    "\n",
    "layers = 4\n",
    "width = 100\n",
    "widths = num_input + layers * [width] + num_output"
   ]
  },
  {
   "cell_type": "code",
   "execution_count": null,
   "metadata": {},
   "outputs": [],
   "source": []
  },
  {
   "cell_type": "code",
   "execution_count": 5,
   "metadata": {},
   "outputs": [
    {
     "name": "stdout",
     "output_type": "stream",
     "text": [
      "0.19328408\n",
      "0.20956436\n",
      "0.19328408\n",
      "0.20956436\n"
     ]
    }
   ],
   "source": [
    "Xt, Yt = data_tr[:, [0]], data_tr[:, [1]]\n",
    "Xv, Yv = data_val[:, [0]], data_val[:, [1]]\n",
    "Xe, Ye = data_eval[:, [0]], data_eval[:, [1]]\n",
    "\n",
    "# create model\n",
    "model = DNN(widths)\n",
    "\n",
    "ws = []\n",
    "bs = []\n",
    "for k in range(2):\n",
    "    wt, bt = model.fit(wd_par, num_epochs, lr, Xt, Yt)\n",
    "    ws.append(wt)\n",
    "    bs.append(bt)\n",
    "    print(model.score(Xe, Ye)[0])\n",
    "print(model.score_w(Xe, Ye, ws[0], bs[0])[0])\n",
    "print(model.score_w(Xe, Ye, ws[1], bs[1])[0])    \n"
   ]
  },
  {
   "cell_type": "code",
   "execution_count": 22,
   "metadata": {},
   "outputs": [],
   "source": [
    "\n",
    "# sess = tf.Session()\n",
    "# sess.run(init)\n",
    "# tr_error = [sess.run(error, feed_dict={X: data_tr[:, [0]], Y: data_tr[:, [1]]})]\n",
    "# val_error = [sess.run(error, feed_dict={X: data_val[:, [0]], Y: data_val[:, [1]]})]\n",
    "# check_w = [sess.run(weights)]\n",
    "# check_b = [sess.run(biases)]\n",
    "\n",
    "# tic = time.perf_counter()\n",
    "# for epoch in range(num_epochs):\n",
    "#     tr_error_, weights_, biases_, _ = \\\n",
    "#     sess.run([error, weights, biases, train_op], feed_dict={X: data_tr[:, [0]], Y: data_tr[:, [1]]})\n",
    "#     check_w.append(weights_)\n",
    "#     check_b.append(biases_)\n",
    "#     tr_error.append(tr_error_)\n",
    "#     val_error.append(sess.run(error, feed_dict={X: data_val[:, [0]], Y: data_val[:, [1]]}))       \n",
    "        \n",
    "# toc = time.perf_counter()\n",
    "# print(toc-tic)\n",
    "# # print('Optimization finished with validation RMSE {:.6f}'.format(np.sqrt(val_error[-1])))\n",
    "# # print('{:03d} epochs run'.format(epoch + 1))\n",
    "# # print('best parameters at epoch {:03d}'.format(best + 1))\n",
    "\n",
    "# plt.title('Training vs validation error', fontsize = 20)\n",
    "# plt.yscale('log')\n",
    "# # plt.axvline(x = best, label = 'selected epoch', color = 'r')\n",
    "# plt.plot(tr_error, label = 'training')\n",
    "# plt.plot(val_error, label = 'validation')\n",
    "# plt.xlabel('Epoch', fontsize = 15)\n",
    "# plt.ylabel('Error', fontsize = 15)\n",
    "# plt.legend(bbox_to_anchor=(1.4, 1.0))\n",
    "# plt.show() "
   ]
  },
  {
   "cell_type": "code",
   "execution_count": 6,
   "metadata": {},
   "outputs": [
    {
     "data": {
      "image/png": "[encoded data removed]",
      "text/plain": [
       "<Figure size 432x288 with 1 Axes>"
      ]
     },
     "metadata": {
      "needs_background": "light"
     },
     "output_type": "display_data"
    }
   ],
   "source": [
    "pred_1 = model.pred_w(Xe, ws[0], bs[0])\n",
    "pred_2 = model.pred_w(Xe, ws[1], bs[1])\n",
    "plt.title('Predictions', fontsize = 20)\n",
    "plt.axvline(x = -1, label = 'data bounds', color = 'r')\n",
    "plt.axvline(x = 2, color = 'r')\n",
    "plt.plot(Xe, pred_1, label = '1')\n",
    "plt.plot(Xe, pred_2, label = '2')\n",
    "plt.plot(data_eval[:, [0]], data_eval[:, [1]], label = 'true function')\n",
    "plt.xlabel('x', fontsize = 15)\n",
    "plt.ylabel('y', fontsize = 15)\n",
    "plt.legend(bbox_to_anchor=(1.4, 1.0))\n",
    "plt.show()"
   ]
  },
  {
   "cell_type": "code",
   "execution_count": null,
   "metadata": {},
   "outputs": [],
   "source": []
  }
 ],
 "metadata": {
  "kernelspec": {
   "display_name": "Python 3",
   "language": "python",
   "name": "python3"
  },
  "language_info": {
   "codemirror_mode": {
    "name": "ipython",
    "version": 3
   },
   "file_extension": ".py",
   "mimetype": "text/x-python",
   "name": "python",
   "nbconvert_exporter": "python",
   "pygments_lexer": "ipython3",
   "version": "3.7.3"
  }
 },
 "nbformat": 4,
 "nbformat_minor": 2
}
